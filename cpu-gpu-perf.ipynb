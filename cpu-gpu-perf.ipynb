{
 "cells": [
  {
   "cell_type": "markdown",
   "id": "b66968da",
   "metadata": {},
   "source": [
    "Based on https://github.com/lucasvw/micrograd/blob/master/_01_discord_01.ipynb as follow up to https://discord.com/channels/1020383067459821711/1029849849765564528/1056937673241137172."
   ]
  },
  {
   "cell_type": "markdown",
   "id": "b7f41381",
   "metadata": {},
   "source": [
    "# Summary"
   ]
  },
  {
   "cell_type": "markdown",
   "id": "c95e0cbf",
   "metadata": {},
   "source": [
    "Contrary to what I saw during end-to-end training, indexing is faster than one-hot matrix multiplication on both CPU and GPU. Measurements are rounded for readability."
   ]
  },
  {
   "cell_type": "markdown",
   "id": "5fa1573a",
   "metadata": {},
   "source": [
    "||CPU|GPU|\n",
    "|-|-|-|\n",
    "|One-hot|137 µs|11 µs|\n",
    "|Indexing|6 µs|5 µs|\n",
    "|Speedup|23x|2x|\n"
   ]
  },
  {
   "cell_type": "markdown",
   "id": "2c074de9",
   "metadata": {},
   "source": [
    "# Setup"
   ]
  },
  {
   "cell_type": "code",
   "execution_count": 1,
   "id": "fb69bb10",
   "metadata": {},
   "outputs": [],
   "source": [
    "import torch\n",
    "import torch.nn.functional as F"
   ]
  },
  {
   "cell_type": "code",
   "execution_count": 2,
   "id": "b38691b4",
   "metadata": {},
   "outputs": [],
   "source": [
    "row_dimensions = 703 # Trigram word model input: (.., .a, [...], .z, aa, [...], az)\n",
    "col_dimensions = 27 # Trigram word model output: (., a, [...], z)"
   ]
  },
  {
   "cell_type": "code",
   "execution_count": 3,
   "id": "374c5e2e",
   "metadata": {},
   "outputs": [],
   "source": [
    "# Simulated weight matrix\n",
    "W = torch.randn([row_dimensions, col_dimensions])"
   ]
  },
  {
   "cell_type": "code",
   "execution_count": 4,
   "id": "5265df37",
   "metadata": {},
   "outputs": [],
   "source": [
    "# simulated X matrix, consisting of 1000 random integers between 0 and 703\n",
    "X = torch.randint(low=0, high = row_dimensions, size=(1000,))"
   ]
  },
  {
   "cell_type": "code",
   "execution_count": 5,
   "id": "70e49f14",
   "metadata": {},
   "outputs": [],
   "source": [
    "# One hot encoded x_enc matrix\n",
    "x_enc = F.one_hot(X, num_classes=row_dimensions).float()"
   ]
  },
  {
   "cell_type": "markdown",
   "id": "7aa4889f",
   "metadata": {},
   "source": [
    "# CPU"
   ]
  },
  {
   "cell_type": "code",
   "execution_count": 6,
   "id": "6406b351",
   "metadata": {},
   "outputs": [
    {
     "name": "stdout",
     "output_type": "stream",
     "text": [
      "137 µs ± 209 ns per loop (mean ± std. dev. of 7 runs, 10,000 loops each)\n"
     ]
    }
   ],
   "source": [
    "%%timeit\n",
    "x_enc @ W"
   ]
  },
  {
   "cell_type": "code",
   "execution_count": 7,
   "id": "f2e2ca15",
   "metadata": {},
   "outputs": [
    {
     "name": "stdout",
     "output_type": "stream",
     "text": [
      "6.29 µs ± 3.48 ns per loop (mean ± std. dev. of 7 runs, 100,000 loops each)\n"
     ]
    }
   ],
   "source": [
    "%%timeit\n",
    "W[X]"
   ]
  },
  {
   "cell_type": "markdown",
   "id": "6fa4ebf9",
   "metadata": {},
   "source": [
    "# GPU"
   ]
  },
  {
   "cell_type": "markdown",
   "id": "ad9e00ff",
   "metadata": {},
   "source": [
    "Move our tensors to the GPU:"
   ]
  },
  {
   "cell_type": "code",
   "execution_count": 8,
   "id": "d5aae305",
   "metadata": {},
   "outputs": [],
   "source": [
    "x_enc = x_enc.cuda()\n",
    "W = W.cuda()\n",
    "X = X.cuda()"
   ]
  },
  {
   "cell_type": "code",
   "execution_count": 9,
   "id": "82579a15",
   "metadata": {},
   "outputs": [
    {
     "name": "stdout",
     "output_type": "stream",
     "text": [
      "10.7 µs ± 34.6 ns per loop (mean ± std. dev. of 7 runs, 100,000 loops each)\n"
     ]
    }
   ],
   "source": [
    "%%timeit\n",
    "a = x_enc @ W"
   ]
  },
  {
   "cell_type": "code",
   "execution_count": 10,
   "id": "8aebb9b5",
   "metadata": {},
   "outputs": [
    {
     "name": "stdout",
     "output_type": "stream",
     "text": [
      "4.82 µs ± 2.7 ns per loop (mean ± std. dev. of 7 runs, 100,000 loops each)\n"
     ]
    }
   ],
   "source": [
    "%%timeit\n",
    "a = W[X]"
   ]
  }
 ],
 "metadata": {
  "kernelspec": {
   "display_name": "Python 3 (ipykernel)",
   "language": "python",
   "name": "python3"
  },
  "language_info": {
   "codemirror_mode": {
    "name": "ipython",
    "version": 3
   },
   "file_extension": ".py",
   "mimetype": "text/x-python",
   "name": "python",
   "nbconvert_exporter": "python",
   "pygments_lexer": "ipython3",
   "version": "3.11.0"
  }
 },
 "nbformat": 4,
 "nbformat_minor": 5
}
